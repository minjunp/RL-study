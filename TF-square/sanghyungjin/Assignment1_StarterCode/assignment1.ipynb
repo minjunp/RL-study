{
 "cells": [
  {
   "cell_type": "code",
   "execution_count": 1,
   "id": "0608712b",
   "metadata": {},
   "outputs": [],
   "source": [
    "%load_ext autoreload\n",
    "%autoreload 2\n",
    "%config InlineBackend.figure_format = 'retina'\n",
    "%matplotlib inline\n",
    "%config IPCompleter.use_jedi = False\n",
    "\n",
    "import sys\n",
    "sys.path.append('./')"
   ]
  },
  {
   "cell_type": "markdown",
   "id": "50087bdb",
   "metadata": {},
   "source": [
    "# Deterministic-4x4-FrozenLake-v0"
   ]
  },
  {
   "cell_type": "code",
   "execution_count": 2,
   "id": "a9e8b70d",
   "metadata": {},
   "outputs": [],
   "source": [
    "from frozen_lake import FrozenLakeEnv\n",
    "\n",
    "env = FrozenLakeEnv(map_name='4x4', is_slippery=False)"
   ]
  },
  {
   "cell_type": "code",
   "execution_count": 3,
   "id": "8dc4c2c7",
   "metadata": {
    "scrolled": true
   },
   "outputs": [
    {
     "name": "stdout",
     "output_type": "stream",
     "text": [
      "[policy_iteration] cnt: 0\tdiff_sum: 2\n",
      "[policy_iteration] cnt: 1\tdiff_sum: 3\n",
      "[policy_iteration] cnt: 2\tdiff_sum: 2\n",
      "[policy_iteration] cnt: 3\tdiff_sum: 3\n",
      "[policy_iteration] cnt: 4\tdiff_sum: 3\n",
      "[policy_iteration] cnt: 5\tdiff_sum: 1\n",
      "\n",
      "[policy_iteration] converged\n"
     ]
    }
   ],
   "source": [
    "from vi_and_pi import policy_iteration\n",
    "\n",
    "P = env.P\n",
    "nS = env.nS\n",
    "nA = env.nA\n",
    "value_function, policy = policy_iteration(P, nS, nA, gamma=0.9, tol=10e-3)"
   ]
  },
  {
   "cell_type": "code",
   "execution_count": 4,
   "id": "511a3a86",
   "metadata": {},
   "outputs": [
    {
     "name": "stdout",
     "output_type": "stream",
     "text": [
      "[value_iteration] iter: 0\tdiff: 1.0\n",
      "[value_iteration] iter: 1\tdiff: 0.9\n",
      "[value_iteration] iter: 2\tdiff: 0.81\n",
      "[value_iteration] iter: 3\tdiff: 0.7290000000000001\n",
      "[value_iteration] iter: 4\tdiff: 0.6561000000000001\n",
      "[value_iteration] iter: 5\tdiff: 0.5904900000000002\n",
      "\n",
      "[value_iteration] converged\n"
     ]
    }
   ],
   "source": [
    "from vi_and_pi import value_iteration\n",
    "\n",
    "P = env.P\n",
    "nS = env.nS\n",
    "nA = env.nA\n",
    "value_function, policy = value_iteration(P, nS, nA, gamma=0.9, tol=1e-3)"
   ]
  },
  {
   "cell_type": "markdown",
   "id": "2683b159",
   "metadata": {},
   "source": [
    "# Stochastic-4x4-FrozenLake-v0"
   ]
  },
  {
   "cell_type": "code",
   "execution_count": 5,
   "id": "0309aaef",
   "metadata": {},
   "outputs": [],
   "source": [
    "from frozen_lake import FrozenLakeEnv\n",
    "\n",
    "env = FrozenLakeEnv(map_name='4x4', is_slippery=True)"
   ]
  },
  {
   "cell_type": "code",
   "execution_count": 6,
   "id": "831c4144",
   "metadata": {
    "scrolled": true
   },
   "outputs": [
    {
     "name": "stdout",
     "output_type": "stream",
     "text": [
      "[policy_iteration] cnt: 0\tdiff_sum: 2\n",
      "[policy_iteration] cnt: 1\tdiff_sum: 9\n",
      "[policy_iteration] cnt: 2\tdiff_sum: 3\n",
      "[policy_iteration] cnt: 3\tdiff_sum: 1\n",
      "[policy_iteration] cnt: 4\tdiff_sum: -1\n",
      "\n",
      "[policy_iteration] converged\n"
     ]
    }
   ],
   "source": [
    "from vi_and_pi import policy_iteration\n",
    "\n",
    "P = env.P\n",
    "nS = env.nS\n",
    "nA = env.nA\n",
    "value_function, policy = policy_iteration(P, nS, nA, gamma=0.9, tol=10e-3)"
   ]
  },
  {
   "cell_type": "code",
   "execution_count": 7,
   "id": "d6516677",
   "metadata": {},
   "outputs": [
    {
     "name": "stdout",
     "output_type": "stream",
     "text": [
      "[value_iteration] iter: 0\tdiff: 0.8\n",
      "[value_iteration] iter: 1\tdiff: 0.5760000000000001\n",
      "[value_iteration] iter: 2\tdiff: 0.4665600000000001\n",
      "[value_iteration] iter: 3\tdiff: 0.3359232000000001\n",
      "[value_iteration] iter: 4\tdiff: 0.24186470400000007\n",
      "[value_iteration] iter: 5\tdiff: 0.19349176320000006\n",
      "[value_iteration] iter: 6\tdiff: 0.07575202529279995\n",
      "[value_iteration] iter: 7\tdiff: 0.06613935449702402\n",
      "[value_iteration] iter: 8\tdiff: 0.02372553432170499\n",
      "[value_iteration] iter: 9\tdiff: 0.017036682731126795\n",
      "[value_iteration] iter: 10\tdiff: 0.006467287260666255\n",
      "[value_iteration] iter: 11\tdiff: 0.004057773734109871\n",
      "[value_iteration] iter: 12\tdiff: 0.00161859774842682\n",
      "\n",
      "[value_iteration] converged\n"
     ]
    }
   ],
   "source": [
    "from vi_and_pi import value_iteration\n",
    "\n",
    "P = env.P\n",
    "nS = env.nS\n",
    "nA = env.nA\n",
    "value_function, policy = value_iteration(P, nS, nA, gamma=0.9, tol=1e-3)"
   ]
  },
  {
   "cell_type": "code",
   "execution_count": null,
   "id": "49e574a8",
   "metadata": {},
   "outputs": [],
   "source": []
  },
  {
   "cell_type": "code",
   "execution_count": null,
   "id": "b3c2720a",
   "metadata": {},
   "outputs": [],
   "source": []
  }
 ],
 "metadata": {
  "kernelspec": {
   "display_name": "shape",
   "language": "python",
   "name": "shape"
  },
  "language_info": {
   "codemirror_mode": {
    "name": "ipython",
    "version": 3
   },
   "file_extension": ".py",
   "mimetype": "text/x-python",
   "name": "python",
   "nbconvert_exporter": "python",
   "pygments_lexer": "ipython3",
   "version": "3.7.11"
  }
 },
 "nbformat": 4,
 "nbformat_minor": 5
}